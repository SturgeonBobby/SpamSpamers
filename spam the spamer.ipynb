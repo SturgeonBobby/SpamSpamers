{
 "cells": [
  {
   "cell_type": "code",
   "execution_count": null,
   "metadata": {},
   "outputs": [],
   "source": [
    "import time\n",
    "import smtplib\n",
    "from email.mime.text import MIMEText\n",
    "from email.mime.multipart import MIMEMultipart"
   ]
  },
  {
   "cell_type": "code",
   "execution_count": null,
   "metadata": {
    "scrolled": false
   },
   "outputs": [],
   "source": [
    "def spam_the_spamer(stmp_addr,number_of_emails,time_interval):\n",
    "    from_email = input(\"From Email: \")\n",
    "    password = input(\"Password: \")\n",
    "    to_email = input(\"To Email: \")\n",
    "    subject = input(\"Subject: \") # The subject line\n",
    "    message = input(\"Massage: \")\n",
    "\n",
    "    msg = MIMEMultipart()\n",
    "    msg['From'] = from_email\n",
    "    msg['To'] = to_email\n",
    "    msg['Subject'] = subject\n",
    "\n",
    "    server = smtplib.SMTP(stmp_addr, 587)\n",
    "    server.starttls()\n",
    "    server.login(from_email, password)\n",
    "    \n",
    "    # Attach the message to the MIMEMultipart object\n",
    "    msg.attach(MIMEText(message, 'plain'))\n",
    "    text = msg.as_string() # You now need to convert the MIMEMultipart object to a string to send\n",
    "\n",
    "    for i in range(int(number_of_emails)):\n",
    "        print(i)\n",
    "        try:\n",
    "            server.sendmail(from_email, to_email, text)\n",
    "        except:\n",
    "            print('Trying again!')\n",
    "            server.sendmail(from_email, to_email, text)\n",
    "        time.sleep(int(time_interval))\n",
    "    server.quit()    "
   ]
  },
  {
   "cell_type": "code",
   "execution_count": null,
   "metadata": {},
   "outputs": [],
   "source": [
    "spam_the_spamer(\"smtp-mail.outlook.com\",1000,1)"
   ]
  },
  {
   "cell_type": "code",
   "execution_count": null,
   "metadata": {},
   "outputs": [],
   "source": []
  }
 ],
 "metadata": {
  "kernelspec": {
   "display_name": "Python 3",
   "language": "python",
   "name": "python3"
  },
  "language_info": {
   "codemirror_mode": {
    "name": "ipython",
    "version": 3
   },
   "file_extension": ".py",
   "mimetype": "text/x-python",
   "name": "python",
   "nbconvert_exporter": "python",
   "pygments_lexer": "ipython3",
   "version": "3.7.4"
  }
 },
 "nbformat": 4,
 "nbformat_minor": 2
}
